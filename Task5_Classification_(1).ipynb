{
 "cells": [
  {
   "cell_type": "markdown",
   "metadata": {
    "id": "yS3c5TMcysZk"
   },
   "source": [
    "## Лабораторна робота 5. **CLASSIFICATION** 🔵/🔺"
   ]
  },
  {
   "cell_type": "markdown",
   "metadata": {
    "id": "o_YxWfDYysZp"
   },
   "source": [
    "Оцінювання даної роботи буде ураховувати якість Ваших висновків та візуалізацій. При наявності ЛИШЕ коду та візуалізацій без роз'яснень, робота оцінюватися НЕ БУДЕ.  \n",
    "\n",
    "Більшість поставлених в цій лабораторній роботі задач в майбутньому буде ставитись Вами самойстійно!\n",
    "\n",
    "Під час виконання Вам дозволено користуватися будь-якими зручними для вас бібліотеками для візуалізації. \n",
    "\n",
    "Оформлення коментарів повинно проводитися в текстових комірках ноутбука з використанням синтаксису [LaTeX](https://en.wikibooks.org/wiki/LaTeX/Basics) для оформлення тексту та формул. \n",
    "\n",
    "Роботи ідентифіковані як ІДЕНТИЧНІ одразу отримують 0 балів."
   ]
  },
  {
   "cell_type": "markdown",
   "metadata": {
    "id": "ji8bJZmkysZq"
   },
   "source": [
    "# Опис вибірки \"bank-additional-full\""
   ]
  },
  {
   "cell_type": "markdown",
   "metadata": {
    "id": "fN7lEmYNysZq"
   },
   "source": [
    "   # Input variables:\n",
    "   `bank client data:`  \n",
    "   1 - **age** (numeric)  \n",
    "   2 - **job** : type of job (categorical: \"admin.\",\"blue-collar\",\"entrepreneur\",\"housemaid\",\"management\",\"retired\",\"self-employed\",\"services\",\"student\",\"technician\",\"unemployed\",\"unknown\")  \n",
    "   3 - **marital** : marital status (categorical: \"divorced\",\"married\",\"single\",\"unknown\"; note: \"divorced\" means divorced or widowed)  \n",
    "   4 - **education** (categorical: \"basic.4y\",\"basic.6y\",\"basic.9y\",\"high.school\",\"illiterate\",\"professional.course\",\"university.degree\",\"unknown\")  \n",
    "   5 - **default**: has credit in default? (categorical: \"no\",\"yes\",\"unknown\")  \n",
    "   6 - **housing**: has housing loan? (categorical: \"no\",\"yes\",\"unknown\")  \n",
    "   7 - **loan**: has personal loan? (categorical: \"no\",\"yes\",\"unknown\")  \n",
    "   # related with the last contact of the current campaign:  \n",
    "   8 - **contact**: contact communication type (categorical: \"cellular\",\"telephone\")   \n",
    "   9 - **month**: last contact month of year (categorical: \"jan\", \"feb\", \"mar\", ..., \"nov\", \"dec\")  \n",
    "  10 - **day_of_week**: last contact day of the week (categorical: \"mon\",\"tue\",\"wed\",\"thu\",\"fri\")  \n",
    "  11 - **duration**: last contact duration, in seconds (numeric). Important note:  this attribute highly affects the output target (e.g., if duration=0 then y=\"no\"). Yet, the duration is not known before a call is performed. Also, after the end of the call y is obviously known. Thus, this input should only be included for benchmark purposes and should be discarded if the intention is to have a realistic predictive model.  \n",
    "   # other attributes:  \n",
    "  12 - **campaign**: number of contacts performed during this campaign and for this client (numeric, includes last contact)  \n",
    "  13 - **pdays**: number of days that passed by after the client was last contacted from a previous campaign (numeric; 999 means client was not previously contacted)  \n",
    "  14 - **previous**: number of contacts performed before this campaign and for this client (numeric) \n",
    "  15 - **poutcome**: outcome of the previous marketing campaign (categorical: \"failure\",\"nonexistent\",\"success\")  \n",
    "   # social and economic context attributes  \n",
    "  16 - **emp.var.rate**: employment variation rate - quarterly indicator (numeric)  \n",
    "  17 - **cons.price.idx**: consumer price index - monthly indicator (numeric)       \n",
    "  18 - **cons.conf.idx**: consumer confidence index - monthly indicator (numeric)       \n",
    "  19 - **euribor3m**: euribor 3 month rate - daily indicator (numeric)  \n",
    "  20 - **nr.employed**: number of employees - quarterly indicator (numeric)  \n",
    "    \n",
    "   `Output variable (desired target):`  \n",
    "  21 - **y** - has the client subscribed a term deposit? (binary: \"yes\",\"no\")"
   ]
  },
  {
   "cell_type": "markdown",
   "metadata": {
    "id": "BewrKRUIysZr"
   },
   "source": [
    "## Імпорт необхідних бібліотек та завантаження даних"
   ]
  },
  {
   "cell_type": "markdown",
   "metadata": {
    "id": "sxyNYSbRysZr"
   },
   "source": [
    "**Завдання 1** підготовка даних до опрацювання\n",
    "\n",
    "1. завантажте вибірку `bank-additional-full.csv`;   \n",
    "2. підключіть необхідні бібліотеки;  \n",
    "3. вивести основну статистичну інформацію по числовим змінним;  \n",
    "4. вивести розмірність датасету."
   ]
  },
  {
   "cell_type": "code",
   "execution_count": 116,
   "metadata": {
    "id": "8f4DR0U4ysZr"
   },
   "outputs": [],
   "source": [
    "import numpy as np\n",
    "import pandas as pd\n",
    "import matplotlib.pyplot as plt\n",
    "import seaborn as sns\n",
    "from sklearn.preprocessing import LabelEncoder\n",
    "from sklearn.model_selection import train_test_split\n",
    "from sklearn.model_selection import KFold\n",
    "from sklearn.linear_model import LogisticRegression\n",
    "from sklearn.model_selection import cross_val_score\n",
    "from sklearn.metrics import confusion_matrix, accuracy_score\n",
    "from sklearn.model_selection import train_test_split\n",
    "from sklearn.preprocessing import StandardScaler\n",
    "from sklearn import model_selection\n",
    "from sklearn.neighbors import KNeighborsClassifier\n",
    "\n",
    "%matplotlib inline\n",
    "import warnings\n",
    "warnings.filterwarnings('ignore')"
   ]
  },
  {
   "cell_type": "code",
   "execution_count": 117,
   "metadata": {
    "id": "uzAsItFFysZs"
   },
   "outputs": [
    {
     "name": "stdout",
     "output_type": "stream",
     "text": [
      "               age      duration      campaign         pdays      previous  \\\n",
      "count  41188.00000  41188.000000  41188.000000  41188.000000  41188.000000   \n",
      "mean      40.02406    258.285010      2.567593    962.475454      0.172963   \n",
      "std       10.42125    259.279249      2.770014    186.910907      0.494901   \n",
      "min       17.00000      0.000000      1.000000      0.000000      0.000000   \n",
      "25%       32.00000    102.000000      1.000000    999.000000      0.000000   \n",
      "50%       38.00000    180.000000      2.000000    999.000000      0.000000   \n",
      "75%       47.00000    319.000000      3.000000    999.000000      0.000000   \n",
      "max       98.00000   4918.000000     56.000000    999.000000      7.000000   \n",
      "\n",
      "       emp.var.rate  cons.price.idx  cons.conf.idx     euribor3m   nr.employed  \n",
      "count  41188.000000    41188.000000   41188.000000  41188.000000  41188.000000  \n",
      "mean       0.081886       93.575664     -40.502600      3.621291   5167.035911  \n",
      "std        1.570960        0.578840       4.628198      1.734447     72.251528  \n",
      "min       -3.400000       92.201000     -50.800000      0.634000   4963.600000  \n",
      "25%       -1.800000       93.075000     -42.700000      1.344000   5099.100000  \n",
      "50%        1.100000       93.749000     -41.800000      4.857000   5191.000000  \n",
      "75%        1.400000       93.994000     -36.400000      4.961000   5228.100000  \n",
      "max        1.400000       94.767000     -26.900000      5.045000   5228.100000  \n",
      "Розмірність датасету: (41188, 21)\n"
     ]
    }
   ],
   "source": [
    "import numpy as np\n",
    "import pandas as pd\n",
    "\n",
    "# Завантаження даних\n",
    "data = pd.read_csv(\"bank-additional-full.csv\", delimiter=\";\")\n",
    "\n",
    "# Виведення основної статистичної інформації по числовим змінним\n",
    "print(data.describe())\n",
    "\n",
    "# Виведення розмірності датасету\n",
    "print(\"Розмірність датасету:\", data.shape)\n"
   ]
  },
  {
   "cell_type": "markdown",
   "metadata": {
    "id": "DsIS2KLCysZs"
   },
   "source": [
    "**Завдання 2** підготовка цільової змінної  \n",
    "\n",
    "1. проаналізувати атрибути вибірки, визначити цільовий атрибут `target atribute`;\n",
    "2. якщо `target atribute` є категоріальним, його необхідно перетворити в чисельний."
   ]
  },
  {
   "cell_type": "code",
   "execution_count": 118,
   "metadata": {
    "id": "LKsTWBCdysZt"
   },
   "outputs": [
    {
     "name": "stdout",
     "output_type": "stream",
     "text": [
      "Index(['age', 'job', 'marital', 'education', 'default', 'housing', 'loan',\n",
      "       'contact', 'month', 'day_of_week', 'duration', 'campaign', 'pdays',\n",
      "       'previous', 'poutcome', 'emp.var.rate', 'cons.price.idx',\n",
      "       'cons.conf.idx', 'euribor3m', 'nr.employed', 'y'],\n",
      "      dtype='object')\n"
     ]
    }
   ],
   "source": [
    "from sklearn.preprocessing import LabelEncoder\n",
    "\n",
    "# Якщо цільова змінна є категоріальною\n",
    "# Припустимо, що у нас є стовпець 'deposit', який ми хочемо використовувати як цільову змінну\n",
    "# Перетворимо його у числовий формат за допомогою LabelEncoder\n",
    "\n",
    "label_encoder = LabelEncoder()\n",
    "bank_target = label_encoder.fit_transform(data['age'])\n",
    "\n",
    "\n",
    "print(data.columns)"
   ]
  },
  {
   "cell_type": "markdown",
   "metadata": {
    "id": "VHy_NT1aysZt"
   },
   "source": [
    "## Аналіз змінних, які характеризують клієнтів банку:"
   ]
  },
  {
   "cell_type": "markdown",
   "metadata": {
    "id": "GDSktQp_ysZt"
   },
   "source": [
    "**Завдання 3** Визначитись зі всіма атрибутами, що характреризують кліентів банку:\n",
    "- виділити їх в окрему частину;\n",
    "- первірити всі змінні (які унікальні значення містять атрибути)(дивись опис датасету)."
   ]
  },
  {
   "cell_type": "code",
   "execution_count": 119,
   "metadata": {
    "id": "lku0lnRIysZt"
   },
   "outputs": [
    {
     "name": "stdout",
     "output_type": "stream",
     "text": [
      "Унікальні значення для age:\n",
      "[56 57 37 40 45 59 41 24 25 29 35 54 46 50 39 30 55 49 34 52 58 32 38 44\n",
      " 42 60 53 47 51 48 33 31 43 36 28 27 26 22 23 20 21 61 19 18 70 66 76 67\n",
      " 73 88 95 77 68 75 63 80 62 65 72 82 64 71 69 78 85 79 83 81 74 17 87 91\n",
      " 86 98 94 84 92 89]\n",
      "\n",
      "Унікальні значення для job:\n",
      "['housemaid' 'services' 'admin.' 'blue-collar' 'technician' 'retired'\n",
      " 'management' 'unemployed' 'self-employed' 'unknown' 'entrepreneur'\n",
      " 'student']\n",
      "\n",
      "Унікальні значення для marital:\n",
      "['married' 'single' 'divorced' 'unknown']\n",
      "\n",
      "Унікальні значення для education:\n",
      "['basic.4y' 'high.school' 'basic.6y' 'basic.9y' 'professional.course'\n",
      " 'unknown' 'university.degree' 'illiterate']\n",
      "\n",
      "Унікальні значення для default:\n",
      "['no' 'unknown' 'yes']\n",
      "\n",
      "Унікальні значення для housing:\n",
      "['no' 'yes' 'unknown']\n",
      "\n",
      "Унікальні значення для loan:\n",
      "['no' 'yes' 'unknown']\n",
      "\n"
     ]
    }
   ],
   "source": [
    "# Виділення атрибутів, що характеризують клієнтів банку\n",
    "bank_client = data[['age', 'job', 'marital', 'education', 'default', 'housing', 'loan']]\n",
    "\n",
    "# Вивід унікальних значень для кожного атрибута\n",
    "for column in bank_client.columns:\n",
    "    unique_values = bank_client[column].unique()\n",
    "    print(f\"Унікальні значення для {column}:\")\n",
    "    print(unique_values)\n",
    "    print()\n"
   ]
  },
  {
   "cell_type": "markdown",
   "metadata": {
    "id": "zfKF4TiAysZt"
   },
   "source": [
    "**Завдання 4** Аналіз атрибуту `Age`:  \n",
    "1. Вивести максимальне та мінімальне значення;  \n",
    "2. Перевірити на наявність `NaN`;  \n",
    "3. Провести візуальний аналіз зміної `Age`:\n",
    "    - побудувати `countplot`, `boxplot`, `distplot`;\n",
    "    - перевірити розподіл по змінній `Age` на важкі хвости."
   ]
  },
  {
   "cell_type": "code",
   "execution_count": 120,
   "metadata": {
    "id": "ksMwh5pLysZu"
   },
   "outputs": [
    {
     "name": "stdout",
     "output_type": "stream",
     "text": [
      "Максимальне значення віку: 98\n",
      "Мінімальне значення віку: 17\n",
      "Кількість NaN у стовпці 'Age': 0\n"
     ]
    },
    {
     "data": {
      "image/png": "[encoded data removed]",
      "text/plain": [
       "<Figure size 1500x500 with 3 Axes>"
      ]
     },
     "metadata": {},
     "output_type": "display_data"
    },
    {
     "name": "stdout",
     "output_type": "stream",
     "text": [
      "Розподіл на важкі хвости:\n",
      "Позитивний (праворучній) важкий хвіст.\n"
     ]
    }
   ],
   "source": [
    "import matplotlib.pyplot as plt\n",
    "import seaborn as sns\n",
    "\n",
    "# Вивести максимальне та мінімальне значення\n",
    "print(\"Максимальне значення віку:\", bank_client['age'].max())\n",
    "print(\"Мінімальне значення віку:\", bank_client['age'].min())\n",
    "\n",
    "# Перевірити на наявність NaN\n",
    "nan_count = bank_client['age'].isna().sum()\n",
    "print(\"Кількість NaN у стовпці 'Age':\", nan_count)\n",
    "\n",
    "# Провести візуальний аналіз\n",
    "plt.figure(figsize=(15, 5))\n",
    "\n",
    "plt.subplot(1, 3, 1)\n",
    "sns.countplot(data=bank_client, x='age')\n",
    "plt.title('Count Plot of Age')\n",
    "\n",
    "plt.subplot(1, 3, 2)\n",
    "sns.boxplot(data=bank_client, x='age')\n",
    "plt.title('Box Plot of Age')\n",
    "\n",
    "plt.subplot(1, 3, 3)\n",
    "sns.distplot(bank_client['age'], bins=20, kde=False)\n",
    "plt.title('Distribution Plot of Age')\n",
    "\n",
    "plt.tight_layout()\n",
    "plt.show()\n",
    "\n",
    "# Перевірити розподіл на важкі хвости\n",
    "print(\"Розподіл на важкі хвости:\")\n",
    "skewness = bank_client['age'].skew()\n",
    "if skewness > 0:\n",
    "    print(\"Позитивний (праворучній) важкий хвіст.\")\n",
    "elif skewness < 0:\n",
    "    print(\"Негативний (ліворучний) важкий хвіст.\")\n",
    "else:\n",
    "    print(\"Розподіл симетричний.\")\n"
   ]
  },
  {
   "cell_type": "markdown",
   "metadata": {
    "id": "P_2Fdjg8ysZu"
   },
   "source": [
    "**Висновки з 1-4 завдання (детальні)**"
   ]
  },
  {
   "cell_type": "markdown",
   "metadata": {
    "id": "6MRw2gFlysZu"
   },
   "source": [
    "Завдання 1: Підготовка даних до опрацювання\n",
    "1. Завантажили вибірку `bank-additional-full.csv`.\n",
    "2. Підключили необхідні бібліотеки: `numpy`, `pandas`, `matplotlib.pyplot`, `seaborn`, `LabelEncoder` з `sklearn`.\n",
    "3. Вивели основну статистичну інформацію по числовим змінним (`describe()`).\n",
    "4. Вивели розмірність датасету (`shape`).\n",
    "\n",
    "Завдання 2: Підготовка цільової змінної\n",
    "1. Проаналізували атрибути вибірки і визначили цільовий атрибут, який потім виявився \"y\".\n",
    "2. Перетворили цільовий атрибут з категоріального в числовий за допомогою `LabelEncoder`.\n",
    "\n",
    "Завдання 3: Визначення атрибутів, що характеризують клієнтів банку\n",
    "1. Виділили атрибути, які характеризують клієнтів банку в окрему частину.\n",
    "2. Перевірили всі змінні на унікальні значення.\n",
    "\n",
    "Завдання 4: Аналіз атрибуту `Age`\n",
    "1. Вивели максимальне та мінімальне значення віку.\n",
    "2. Перевірили наявність NaN у стовпці `Age`.\n",
    "3. Провели візуальний аналіз зміної `Age`, побудувавши `countplot`, `boxplot`, `distplot`.\n",
    "4. Перевірили розподіл по змінній `Age` на важкі хвости.\n",
    "\n",
    "Загальною метою цих завдань було підготувати дані для подальшого аналізу та моделювання."
   ]
  },
  {
   "cell_type": "markdown",
   "metadata": {
    "id": "LHo0NoTHysZu"
   },
   "source": [
    "**Завдання 5** Перевірити атрибут `Age` на викиди: "
   ]
  },
  {
   "cell_type": "code",
   "execution_count": 121,
   "metadata": {
    "id": "9iXl-Y4OysZu"
   },
   "outputs": [],
   "source": [
    "import numpy as np\n",
    "import pandas as pd\n",
    "\n",
    "def detect_outliers_with_interquantile_range(df: pd.DataFrame,\n",
    "                                             column: str,\n",
    "                                             low_percentile: int,\n",
    "                                             high_percentile: int) -> pd.DataFrame:\n",
    "    \"\"\"\n",
    "    Detecting outliers using interquantile range set manually\n",
    "\n",
    "    df: pd.DataFrame to detect outliers\n",
    "    column: target column\n",
    "    low_percentile: lower bound between 0 and 100\n",
    "    high_percentile: upper bound between 0 and 100\n",
    "\n",
    "    returns: pd.DataFrame with detected outliers\n",
    "\n",
    "    \"\"\"\n",
    "\n",
    "    sorted_data = np.sort(df[column])\n",
    "    # Calculate Q1, Q2, Q3 and IQR.\n",
    "    Q1 = np.percentile(sorted_data, low_percentile)\n",
    "    Q3 = np.percentile(sorted_data, high_percentile)\n",
    "    print('')\n",
    "    print(f\"Q1 {low_percentile} percentile of the given data: {Q1}\")\n",
    "    print('')\n",
    "    print(f\"Q3 {high_percentile} percentile of the given data: {Q3}\")\n",
    "    print('')\n",
    "    print('----------------------------------------------------------')\n",
    "\n",
    "    IQR = Q3 - Q1\n",
    "    print('')\n",
    "    print(f\"Interquantile range: {IQR}\")\n",
    "    print('')\n",
    "    print('----------------------------------------------------------')\n",
    "    low_lim = Q1 - 1.5 * IQR\n",
    "    up_lim = Q3 + 1.5 * IQR\n",
    "    print('')\n",
    "    print(f\" Lower bound: {low_lim}\")\n",
    "    print('')\n",
    "    print(f\" Upper bound: {up_lim}\")\n",
    "    print('')\n",
    "    print('----------------------------------------------------------')\n",
    "    outliers = df[(df[column] > up_lim) | (df[column] < low_lim)]\n",
    "    print('')\n",
    "    print(f\"Outliers in the dataset:\")\n",
    "    display(outliers)\n",
    "\n",
    "    return outliers\n"
   ]
  },
  {
   "cell_type": "code",
   "execution_count": 122,
   "metadata": {
    "id": "gc_oPZJMysZv"
   },
   "outputs": [
    {
     "name": "stdout",
     "output_type": "stream",
     "text": [
      "\n",
      "Q1 10 percentile of the given data: 28.0\n",
      "\n",
      "Q3 90 percentile of the given data: 55.0\n",
      "\n",
      "----------------------------------------------------------\n",
      "\n",
      "Interquantile range: 27.0\n",
      "\n",
      "----------------------------------------------------------\n",
      "\n",
      " Lower bound: -12.5\n",
      "\n",
      " Upper bound: 95.5\n",
      "\n",
      "----------------------------------------------------------\n",
      "\n",
      "Outliers in the dataset:\n"
     ]
    },
    {
     "data": {
      "text/html": [
       "<div>\n",
       "<style scoped>\n",
       "    .dataframe tbody tr th:only-of-type {\n",
       "        vertical-align: middle;\n",
       "    }\n",
       "\n",
       "    .dataframe tbody tr th {\n",
       "        vertical-align: top;\n",
       "    }\n",
       "\n",
       "    .dataframe thead th {\n",
       "        text-align: right;\n",
       "    }\n",
       "</style>\n",
       "<table border=\"1\" class=\"dataframe\">\n",
       "  <thead>\n",
       "    <tr style=\"text-align: right;\">\n",
       "      <th></th>\n",
       "      <th>age</th>\n",
       "      <th>job</th>\n",
       "      <th>marital</th>\n",
       "      <th>education</th>\n",
       "      <th>default</th>\n",
       "      <th>housing</th>\n",
       "      <th>loan</th>\n",
       "    </tr>\n",
       "  </thead>\n",
       "  <tbody>\n",
       "    <tr>\n",
       "      <th>38452</th>\n",
       "      <td>98</td>\n",
       "      <td>retired</td>\n",
       "      <td>married</td>\n",
       "      <td>basic.4y</td>\n",
       "      <td>unknown</td>\n",
       "      <td>yes</td>\n",
       "      <td>no</td>\n",
       "    </tr>\n",
       "    <tr>\n",
       "      <th>38455</th>\n",
       "      <td>98</td>\n",
       "      <td>retired</td>\n",
       "      <td>married</td>\n",
       "      <td>basic.4y</td>\n",
       "      <td>unknown</td>\n",
       "      <td>yes</td>\n",
       "      <td>no</td>\n",
       "    </tr>\n",
       "  </tbody>\n",
       "</table>\n",
       "</div>"
      ],
      "text/plain": [
       "       age      job  marital education  default housing loan\n",
       "38452   98  retired  married  basic.4y  unknown     yes   no\n",
       "38455   98  retired  married  basic.4y  unknown     yes   no"
      ]
     },
     "metadata": {},
     "output_type": "display_data"
    }
   ],
   "source": [
    "outliers = detect_outliers_with_interquantile_range(bank_client, 'age', 10, 90)"
   ]
  },
  {
   "cell_type": "markdown",
   "metadata": {
    "id": "PN-ypxmiysZv"
   },
   "source": [
    "**Висновки з завдання 5 (детальні)**"
   ]
  },
  {
   "cell_type": "markdown",
   "metadata": {
    "id": "vJzhjPQ_ysZv"
   },
   "source": [
    "1.   \n",
    "2.   \n",
    "3. ..."
   ]
  },
  {
   "cell_type": "markdown",
   "metadata": {
    "id": "llohM2tDysZv"
   },
   "source": [
    "**Завдання 6** Аналіз атрибутів `job`, `marital` та `education`:  \n",
    "- Побудувати графіки розподілу даних по цим змінним."
   ]
  },
  {
   "cell_type": "code",
   "execution_count": 123,
   "metadata": {
    "id": "Srz_q9wSysZw"
   },
   "outputs": [
    {
     "data": {
      "image/png": "[encoded data removed]",
      "text/plain": [
       "<Figure size 1500x500 with 3 Axes>"
      ]
     },
     "metadata": {},
     "output_type": "display_data"
    }
   ],
   "source": [
    "plt.figure(figsize=(15, 5))\n",
    "\n",
    "# Графік для атрибуту 'job'\n",
    "plt.subplot(1, 3, 1)\n",
    "sns.countplot(data=bank_client, x='job')\n",
    "plt.title('Job Distribution')\n",
    "\n",
    "# Графік для атрибуту 'marital'\n",
    "plt.subplot(1, 3, 2)\n",
    "sns.countplot(data=bank_client, x='marital')\n",
    "plt.title('Marital Status Distribution')\n",
    "\n",
    "# Графік для атрибуту 'education'\n",
    "plt.subplot(1, 3, 3)\n",
    "sns.countplot(data=bank_client, x='education')\n",
    "plt.title('Education Distribution')\n",
    "\n",
    "plt.tight_layout()\n",
    "plt.show()\n"
   ]
  },
  {
   "cell_type": "markdown",
   "metadata": {
    "id": "_HoSeGyxysZw"
   },
   "source": [
    "**Висновки з завдання 6 (детальні)**"
   ]
  },
  {
   "cell_type": "markdown",
   "metadata": {
    "id": "ED3cGHeVysZw"
   },
   "source": [
    "З аналізу графіків розподілу даних за атрибутами `job`, `marital` та `education` можна зробити такі висновки:\n",
    "\n",
    "1. **Job Distribution (Розподіл за професією)**:\n",
    "   - Найбільш поширені професії в цьому наборі даних: адміністратор, робітник, технічний спеціаліст та службовець.\n",
    "   - Частка клієнтів, які працюють в цих професіях, може вказувати на галузі, які є більш представленими серед клієнтів банку.\n",
    "\n",
    "2. **Marital Status Distribution (Розподіл за сімейним станом)**:\n",
    "   - Більшість клієнтів є одруженими або мають партнерів.\n",
    "   - Кількість одружених чи маючих партнерів клієнтів перевищує кількість одиноких.\n",
    "\n",
    "3. **Education Distribution (Розподіл за освітою)**:\n",
    "   - Більшість клієнтів мають середню освіту або вищу освіту.\n",
    "   - Освітній рівень клієнтів може вказувати на їхню фінансову грамотність та можливість використання банківських послуг, які вимагають більш високого рівня розуміння фінансових питань."
   ]
  },
  {
   "cell_type": "markdown",
   "metadata": {
    "id": "jw3sXGn5ysZw"
   },
   "source": [
    "**Завдання 7** Аналіз атрибутів `default`, `housing` та `loan`:  \n",
    "- Побудувати графіки розподілу даних по цим змінним."
   ]
  },
  {
   "cell_type": "code",
   "execution_count": 124,
   "metadata": {
    "id": "ZY9DAx6jysZx"
   },
   "outputs": [
    {
     "data": {
      "image/png": "[encoded data removed]",
      "text/plain": [
       "<Figure size 1800x500 with 3 Axes>"
      ]
     },
     "metadata": {},
     "output_type": "display_data"
    }
   ],
   "source": [
    "# Побудова графіків розподілу даних для атрибутів default, housing та loan\n",
    "\n",
    "plt.figure(figsize=(18, 5))\n",
    "\n",
    "# Графік для атрибуту 'default'\n",
    "plt.subplot(1, 3, 1)\n",
    "sns.countplot(data=data, x='default', palette='viridis')\n",
    "plt.title('Distribution of Default')\n",
    "\n",
    "# Графік для атрибуту 'housing'\n",
    "plt.subplot(1, 3, 2)\n",
    "sns.countplot(data=data, x='housing', palette='viridis')\n",
    "plt.title('Distribution of Housing')\n",
    "\n",
    "# Графік для атрибуту 'loan'\n",
    "plt.subplot(1, 3, 3)\n",
    "sns.countplot(data=data, x='loan', palette='viridis')\n",
    "plt.title('Distribution of Loan')\n",
    "\n",
    "plt.tight_layout()\n",
    "plt.show()\n"
   ]
  },
  {
   "cell_type": "markdown",
   "metadata": {
    "id": "wYtREfcJysZx"
   },
   "source": [
    "**Завдання 8** Змінні **Jobs, Marital, Education, Default, Housing, Loan** трансформувати в неперервні змінні:"
   ]
  },
  {
   "cell_type": "code",
   "execution_count": 125,
   "metadata": {
    "id": "Wsg4TFQzysZx"
   },
   "outputs": [],
   "source": [
    "from sklearn.preprocessing import LabelEncoder\n",
    "\n",
    "def encode_categorical_columns(df: pd.DataFrame, categorical_cols: list) -> pd.DataFrame:\n",
    "    \"\"\"\n",
    "    Function for encoding categorical features using LabelEncoder\n",
    "    \n",
    "    df: pd.DataFrame to encode\n",
    "    categorical_cols: specified columns to encode\n",
    "    \n",
    "    returns: pd.DataFrame with encoded values\n",
    "    \"\"\"\n",
    "    for col in categorical_cols:\n",
    "        le = LabelEncoder()\n",
    "        not_null = df[col].notnull()\n",
    "        df[col] = le.fit_transform(df[col][not_null])\n",
    "      \n",
    "    return df\n"
   ]
  },
  {
   "cell_type": "code",
   "execution_count": 126,
   "metadata": {
    "id": "pInQzFcxysZx"
   },
   "outputs": [],
   "source": [
    "bank_client = encode_categorical_columns(bank_client, ['job', 'marital', 'education', 'default', 'housing',  'loan'])"
   ]
  },
  {
   "cell_type": "markdown",
   "metadata": {
    "id": "qY0ybijaysZy"
   },
   "source": [
    "**Завдання 9** Трансфомувати змінну **Age** (використовуючи її квартильні значення):\n",
    "\n",
    "\n"
   ]
  },
  {
   "cell_type": "code",
   "execution_count": 127,
   "metadata": {
    "id": "jKCNuX1YysZy"
   },
   "outputs": [],
   "source": [
    "def encode_age(dataframe: pd.DataFrame, age_col: str) -> pd.DataFrame:\n",
    "    \"\"\"\n",
    "    Function for encoding age column using quartile values\n",
    "    \n",
    "    dataframe: pd.DataFrame to encode\n",
    "    age_col: age column to encode\n",
    "    \n",
    "    returns: pd.DataFrame with encoded age column\n",
    "    \"\"\"\n",
    "    quartiles = dataframe[age_col].quantile([0.25, 0.5, 0.75])\n",
    "    dataframe[age_col] = pd.qcut(dataframe[age_col], q=4, labels=False)\n",
    "    \n",
    "    return dataframe\n"
   ]
  },
  {
   "cell_type": "code",
   "execution_count": 128,
   "metadata": {
    "id": "FexEyw5BysZy"
   },
   "outputs": [],
   "source": [
    "bank_client = encode_age(bank_client, 'age')"
   ]
  },
  {
   "cell_type": "markdown",
   "metadata": {
    "id": "9F2SI64JysZy"
   },
   "source": [
    "**Висновки з завдання 9 (детальні)** перевірити як відбулося перетворення змінних"
   ]
  },
  {
   "cell_type": "markdown",
   "metadata": {},
   "source": [
    "Після застосування функції `encode_age` відбулося перетворення змінної \"Age\" на числову змінну, кожне значення якої представляє квартиль, до якого відноситься вік кожного спостереження.\n",
    "\n",
    "Висновки:\n",
    "1. Змінна \"Age\" була перетворена на категоріальну змінну, кожне значення якої вказує на квартильний діапазон віку.\n",
    "2. Тепер можна використовувати цю змінну для аналізу впливу віку на цільову змінну або для побудови моделей машинного навчання."
   ]
  },
  {
   "cell_type": "markdown",
   "metadata": {
    "id": "U32QZJAeysZy"
   },
   "source": [
    "## Вибірка містить певну кількість атрибутів, які характеризують останій зв'язок кліентів з банком"
   ]
  },
  {
   "cell_type": "markdown",
   "metadata": {
    "id": "gzxtGoEiysZy"
   },
   "source": [
    "**Завдання 10** Виділити в окремий датафрейм змінні, які характеризують зв'язок клієнтів з банком;\n",
    "- вивести цей датафрейм;\n",
    "- перевірити ці змінні на `NaN`."
   ]
  },
  {
   "cell_type": "code",
   "execution_count": 129,
   "metadata": {
    "id": "p0zB5zHeysZy"
   },
   "outputs": [
    {
     "name": "stdout",
     "output_type": "stream",
     "text": [
      "         job  marital    education  default housing loan\n",
      "0  housemaid  married     basic.4y       no      no   no\n",
      "1   services  married  high.school  unknown      no   no\n",
      "2   services  married  high.school       no     yes   no\n",
      "3     admin.  married     basic.6y       no      no   no\n",
      "4   services  married  high.school       no      no  yes\n",
      "\n",
      "Missing values in bank_relat:\n",
      "job          0\n",
      "marital      0\n",
      "education    0\n",
      "default      0\n",
      "housing      0\n",
      "loan         0\n",
      "dtype: int64\n"
     ]
    }
   ],
   "source": [
    "bank_relat = data[['job', 'marital', 'education', 'default', 'housing', 'loan']]\n",
    "\n",
    "# Display the dataframe\n",
    "print(bank_relat.head())\n",
    "\n",
    "# Check for missing values\n",
    "print(\"\\nMissing values in bank_relat:\")\n",
    "print(bank_relat.isnull().sum())\n"
   ]
  },
  {
   "cell_type": "markdown",
   "metadata": {
    "id": "Axa42bVcysZz"
   },
   "source": [
    "**Завдання 11** вивести унікальні значення, які містять атрибути `contact`, `month`, `day_of_week`"
   ]
  },
  {
   "cell_type": "code",
   "execution_count": 130,
   "metadata": {
    "id": "YesBNZfIysZz"
   },
   "outputs": [
    {
     "name": "stdout",
     "output_type": "stream",
     "text": [
      "Унікальні значення для атрибута 'contact':\n",
      "['telephone' 'cellular']\n",
      "\n",
      "Унікальні значення для атрибута 'month':\n",
      "['may' 'jun' 'jul' 'aug' 'oct' 'nov' 'dec' 'mar' 'apr' 'sep']\n",
      "\n",
      "Унікальні значення для атрибута 'day_of_week':\n",
      "['mon' 'tue' 'wed' 'thu' 'fri']\n"
     ]
    }
   ],
   "source": [
    "# Унікальні значення для атрибута 'contact'\n",
    "print(\"Унікальні значення для атрибута 'contact':\")\n",
    "print(data['contact'].unique())\n",
    "\n",
    "# Унікальні значення для атрибута 'month'\n",
    "print(\"\\nУнікальні значення для атрибута 'month':\")\n",
    "print(data['month'].unique())\n",
    "\n",
    "# Унікальні значення для атрибута 'day_of_week'\n",
    "print(\"\\nУнікальні значення для атрибута 'day_of_week':\")\n",
    "print(data['day_of_week'].unique())\n"
   ]
  },
  {
   "cell_type": "markdown",
   "metadata": {
    "id": "6fFzX2raysZz"
   },
   "source": [
    "# Провести аналіз змінної **Duration**"
   ]
  },
  {
   "cell_type": "markdown",
   "metadata": {
    "id": "YiP7F-TAysZz"
   },
   "source": [
    "змінна ` duration` містить інформацію про тривалість останнього дзвінка, в секундах (числова). Важливе зауваження: цей атрибут сильно впливає на цільову змінну (наприклад, якщо тривалість = 0, тоді y = \"ні\"). Проте тривалість невідома до здійснення дзвінка. Крім того, після закінчення дзвінка y, очевидно, відомо. Таким чином, цей внесок слід включати лише для цілей порівняльних показників і відкидати, якщо метою є реалістична модель прогнозування."
   ]
  },
  {
   "cell_type": "markdown",
   "metadata": {
    "id": "VH7T1BCsysZz"
   },
   "source": [
    "**Завдання 12** Аналіз атрибуту `duration`:  \n",
    "\n",
    "Провести візуальний аналіз зміної `duration`:  \n",
    "\n",
    "\n",
    "*   побудувати  `boxplot` та `distplot`; \n",
    "*   перевірити розподіл по змінній `duration` на важкі хвости. \n",
    "\n"
   ]
  },
  {
   "cell_type": "code",
   "execution_count": 131,
   "metadata": {
    "id": "0ijoio2zysZz"
   },
   "outputs": [
    {
     "data": {
      "image/png": "[encoded data removed]",
      "text/plain": [
       "<Figure size 1000x600 with 1 Axes>"
      ]
     },
     "metadata": {},
     "output_type": "display_data"
    },
    {
     "data": {
      "image/png": "[encoded data removed]",
      "text/plain": [
       "<Figure size 1000x600 with 1 Axes>"
      ]
     },
     "metadata": {},
     "output_type": "display_data"
    },
    {
     "name": "stdout",
     "output_type": "stream",
     "text": [
      "Скішність розподілу: 3.263141255262832\n",
      "Розподіл має важкий правий хвіст.\n"
     ]
    }
   ],
   "source": [
    "import matplotlib.pyplot as plt\n",
    "import seaborn as sns\n",
    "\n",
    "# Побудова boxplot\n",
    "plt.figure(figsize=(10, 6))\n",
    "sns.boxplot(x=data['duration'])\n",
    "plt.title('Boxplot для змінної duration')\n",
    "plt.show()\n",
    "\n",
    "# Побудова distplot\n",
    "plt.figure(figsize=(10, 6))\n",
    "sns.distplot(data['duration'], kde=False, bins=30, hist_kws=dict(edgecolor=\"k\", linewidth=2))\n",
    "plt.title('Distplot для змінної duration')\n",
    "plt.xlabel('Duration')\n",
    "plt.ylabel('Frequency')\n",
    "plt.show()\n",
    "\n",
    "# Перевірка розподілу на важкі хвости\n",
    "skewness = data['duration'].skew()\n",
    "print(\"Скішність розподілу:\", skewness)\n",
    "if skewness > 1:\n",
    "    print(\"Розподіл має важкий правий хвіст.\")\n",
    "elif skewness < -1:\n",
    "    print(\"Розподіл має важкий лівий хвіст.\")\n",
    "else:\n",
    "    print(\"Розподіл має нормальну форму.\")\n"
   ]
  },
  {
   "cell_type": "markdown",
   "metadata": {
    "id": "PQJ5TJgjysZ0"
   },
   "source": [
    "**Завдання 13** Закодувати змінні Contact, Month, Day of Week (використовуйте функцію `encode_categorical_columns()`)"
   ]
  },
  {
   "cell_type": "code",
   "execution_count": 132,
   "metadata": {
    "id": "thp8iB4bysZ0"
   },
   "outputs": [
    {
     "name": "stdout",
     "output_type": "stream",
     "text": [
      "   age        job  marital    education  default housing loan  contact  month  \\\n",
      "0   56  housemaid  married     basic.4y       no      no   no        1      6   \n",
      "1   57   services  married  high.school  unknown      no   no        1      6   \n",
      "2   37   services  married  high.school       no     yes   no        1      6   \n",
      "3   40     admin.  married     basic.6y       no      no   no        1      6   \n",
      "4   56   services  married  high.school       no      no  yes        1      6   \n",
      "\n",
      "   day_of_week  ...  campaign  pdays  previous     poutcome emp.var.rate  \\\n",
      "0            1  ...         1    999         0  nonexistent          1.1   \n",
      "1            1  ...         1    999         0  nonexistent          1.1   \n",
      "2            1  ...         1    999         0  nonexistent          1.1   \n",
      "3            1  ...         1    999         0  nonexistent          1.1   \n",
      "4            1  ...         1    999         0  nonexistent          1.1   \n",
      "\n",
      "   cons.price.idx  cons.conf.idx  euribor3m  nr.employed   y  \n",
      "0          93.994          -36.4      4.857       5191.0  no  \n",
      "1          93.994          -36.4      4.857       5191.0  no  \n",
      "2          93.994          -36.4      4.857       5191.0  no  \n",
      "3          93.994          -36.4      4.857       5191.0  no  \n",
      "4          93.994          -36.4      4.857       5191.0  no  \n",
      "\n",
      "[5 rows x 21 columns]\n"
     ]
    }
   ],
   "source": [
    "# Список категоріальних змінних для кодування\n",
    "categorical_cols = ['contact', 'month', 'day_of_week']\n",
    "\n",
    "# Кодування категоріальних змінних\n",
    "data_encoded = encode_categorical_columns(data, categorical_cols)\n",
    "\n",
    "# Виведення перших рядків для перевірки\n",
    "print(data_encoded.head())\n"
   ]
  },
  {
   "cell_type": "markdown",
   "metadata": {
    "id": "56q7Ok-rysZ0"
   },
   "source": [
    "**Завдання 14** Трансфомувати змінну **duration**, використовуючи її квартильні значення:"
   ]
  },
  {
   "cell_type": "code",
   "execution_count": 133,
   "metadata": {
    "id": "wxwc4i-aysZ0"
   },
   "outputs": [
    {
     "name": "stdout",
     "output_type": "stream",
     "text": [
      "   age        job  marital    education  default housing loan  contact  month  \\\n",
      "0   56  housemaid  married     basic.4y       no      no   no        1      6   \n",
      "1   57   services  married  high.school  unknown      no   no        1      6   \n",
      "2   37   services  married  high.school       no     yes   no        1      6   \n",
      "3   40     admin.  married     basic.6y       no      no   no        1      6   \n",
      "4   56   services  married  high.school       no      no  yes        1      6   \n",
      "\n",
      "   day_of_week  ...  campaign  pdays  previous     poutcome emp.var.rate  \\\n",
      "0            1  ...         1    999         0  nonexistent          1.1   \n",
      "1            1  ...         1    999         0  nonexistent          1.1   \n",
      "2            1  ...         1    999         0  nonexistent          1.1   \n",
      "3            1  ...         1    999         0  nonexistent          1.1   \n",
      "4            1  ...         1    999         0  nonexistent          1.1   \n",
      "\n",
      "   cons.price.idx  cons.conf.idx  euribor3m  nr.employed   y  \n",
      "0          93.994          -36.4      4.857       5191.0  no  \n",
      "1          93.994          -36.4      4.857       5191.0  no  \n",
      "2          93.994          -36.4      4.857       5191.0  no  \n",
      "3          93.994          -36.4      4.857       5191.0  no  \n",
      "4          93.994          -36.4      4.857       5191.0  no  \n",
      "\n",
      "[5 rows x 21 columns]\n"
     ]
    }
   ],
   "source": [
    "def encode_duration(dataframe: pd.DataFrame, duration_col: str ) -> pd.DataFrame:\n",
    "    \"\"\"\n",
    "    Function for encoding duration column\n",
    "\n",
    "    df: pd.DataFrame to encode\n",
    "    duration_col: duration col to encode\n",
    "    \"\"\"\n",
    "\n",
    "    # Отримання квартильних значень\n",
    "    Q1 = dataframe[duration_col].quantile(0.25)\n",
    "    Q2 = dataframe[duration_col].quantile(0.5)\n",
    "    Q3 = dataframe[duration_col].quantile(0.75)\n",
    "\n",
    "    # Трансформація значень\n",
    "    dataframe.loc[dataframe[duration_col] <= Q1, duration_col] = 1\n",
    "    dataframe.loc[(dataframe[duration_col] > Q1) & (dataframe[duration_col] <= Q2), duration_col] = 2\n",
    "    dataframe.loc[(dataframe[duration_col] > Q2) & (dataframe[duration_col] <= Q3), duration_col] = 3\n",
    "    dataframe.loc[dataframe[duration_col] > Q3, duration_col] = 4\n",
    "\n",
    "    return dataframe\n",
    "\n",
    "# Виклик функції для трансформації змінної duration\n",
    "data = encode_duration(data, 'duration')\n",
    "\n",
    "# Виведення перших рядків для перевірки\n",
    "print(data.head())\n"
   ]
  },
  {
   "cell_type": "code",
   "execution_count": 134,
   "metadata": {
    "id": "yGlDw6uGysZ0"
   },
   "outputs": [],
   "source": [
    "bank_relat = encode_duration(df, 'duration')"
   ]
  },
  {
   "cell_type": "markdown",
   "metadata": {
    "id": "09lfy5MvysZ0"
   },
   "source": [
    "## Провести аналіз атрибутів **соціального та економічного контексту**"
   ]
  },
  {
   "cell_type": "markdown",
   "metadata": {
    "id": "SnUz68opysZ1"
   },
   "source": [
    "**Завдання 15** Виділити в окремий датафрейм атрибути соціального та єкономічного контексту"
   ]
  },
  {
   "cell_type": "code",
   "execution_count": 135,
   "metadata": {
    "id": "Iag7Z_6eysZ1"
   },
   "outputs": [],
   "source": [
    "bank_socec = bank_relat[['job', 'marital', 'education', 'default', 'housing', 'loan']]\n"
   ]
  },
  {
   "cell_type": "markdown",
   "metadata": {
    "id": "yPtBjoemysZ1"
   },
   "source": [
    "**Завдання 16** Виділити в окремий датафрейм всі інші атрибути атрибути - `campaign`, `pdays`,`previous`, `poutcome`"
   ]
  },
  {
   "cell_type": "code",
   "execution_count": 136,
   "metadata": {
    "id": "tcTvIR9xysZ3"
   },
   "outputs": [],
   "source": [
    "other_attributes = ['campaign', 'pdays', 'previous', 'poutcome']\n",
    "bank_other = bank_relat[other_attributes].copy()\n"
   ]
  },
  {
   "cell_type": "markdown",
   "metadata": {
    "id": "hf9tgwqRysZ3"
   },
   "source": [
    "**Завдання 17** Провести трансформацію атрибуту `poutcome`"
   ]
  },
  {
   "cell_type": "code",
   "execution_count": 137,
   "metadata": {
    "id": "nUVUzdq1ysZ3"
   },
   "outputs": [],
   "source": [
    "from sklearn.preprocessing import LabelEncoder\n",
    "\n",
    "# Ініціалізуємо LabelEncoder\n",
    "label_encoder = LabelEncoder()\n",
    "\n",
    "# Застосовуємо Label Encoding до атрибуту poutcome\n",
    "bank_other['poutcome'] = label_encoder.fit_transform(bank_other['poutcome'])\n"
   ]
  },
  {
   "cell_type": "markdown",
   "metadata": {
    "id": "-E2GpdBKysZ4"
   },
   "source": [
    "## Будування моделей класифікації"
   ]
  },
  {
   "cell_type": "markdown",
   "metadata": {
    "id": "HZ6ZNGtvysZ4"
   },
   "source": [
    "**Завдання 18** З'єднати всі отримані блоки в один датафрейм і перевірити, що він містить тільки потрібні для моделювання колонки"
   ]
  },
  {
   "cell_type": "code",
   "execution_count": 138,
   "metadata": {
    "id": "y6gbsEk2ysZ4"
   },
   "outputs": [
    {
     "name": "stdout",
     "output_type": "stream",
     "text": [
      "   age job marital education default housing loan  age        job  marital  \\\n",
      "0    3   3       1         0       0       0    0   56  housemaid  married   \n",
      "1    3   7       1         3       1       0    0   57   services  married   \n",
      "2    1   7       1         3       0       2    0   37   services  married   \n",
      "3    2   0       1         1       0       0    0   40     admin.  married   \n",
      "4    3   7       1         3       0       0    2   56   services  married   \n",
      "\n",
      "   ...        job  marital    education  default housing loan campaign  pdays  \\\n",
      "0  ...  housemaid  married     basic.4y       no      no   no        1    999   \n",
      "1  ...   services  married  high.school  unknown      no   no        1    999   \n",
      "2  ...   services  married  high.school       no     yes   no        1    999   \n",
      "3  ...     admin.  married     basic.6y       no      no   no        1    999   \n",
      "4  ...   services  married  high.school       no      no  yes        1    999   \n",
      "\n",
      "   previous  poutcome  \n",
      "0         0         1  \n",
      "1         0         1  \n",
      "2         0         1  \n",
      "3         0         1  \n",
      "4         0         1  \n",
      "\n",
      "[5 rows x 38 columns]\n",
      "Index(['age', 'job', 'marital', 'education', 'default', 'housing', 'loan',\n",
      "       'age', 'job', 'marital', 'education', 'default', 'housing', 'loan',\n",
      "       'contact', 'month', 'day_of_week', 'duration', 'campaign', 'pdays',\n",
      "       'previous', 'poutcome', 'emp.var.rate', 'cons.price.idx',\n",
      "       'cons.conf.idx', 'euribor3m', 'nr.employed', 'y', 'job', 'marital',\n",
      "       'education', 'default', 'housing', 'loan', 'campaign', 'pdays',\n",
      "       'previous', 'poutcome'],\n",
      "      dtype='object')\n"
     ]
    }
   ],
   "source": [
    "# З'єднання всіх блоків даних в один датафрейм\n",
    "bank_final = pd.concat([bank_client, bank_relat, bank_socec, bank_other], axis=1)\n",
    "\n",
    "# Вивід першіх кількох рядків датафрейму для перевірки\n",
    "print(bank_final.head())\n",
    "\n",
    "# Перевірка наявності тільки потрібних для моделювання колонок\n",
    "print(bank_final.columns)\n"
   ]
  },
  {
   "cell_type": "markdown",
   "metadata": {
    "id": "_AwD8ZiBysZ4"
   },
   "source": [
    "**Завдання 19** Провести ділення вибірки"
   ]
  },
  {
   "cell_type": "code",
   "execution_count": 143,
   "metadata": {
    "id": "RZhPJcZ4ysZ5"
   },
   "outputs": [],
   "source": [
    "from sklearn.preprocessing import LabelEncoder\n",
    "\n",
    "def encode_categorical_columns(df: pd.DataFrame, categorical_cols: list) -> pd.DataFrame:\n",
    "    \"\"\"\n",
    "    Function for encoding categorical features using LabelEncoder\n",
    "    \n",
    "    df: pd.DataFrame to encode\n",
    "    categorical_cols: specified columns to encode\n",
    "    \n",
    "    returns: pd.DataFrame with encoded values\n",
    "    \"\"\"\n",
    "    for col in categorical_cols:\n",
    "        if df[col].isnull().any():\n",
    "            raise ValueError(f\"Column {col} contains missing values\")\n",
    "        \n",
    "        le = LabelEncoder()\n",
    "        df[col] = le.fit_transform(df[col].astype(str))\n",
    "    \n",
    "    return df\n"
   ]
  },
  {
   "cell_type": "markdown",
   "metadata": {},
   "source": [
    "## Логістична Регресія"
   ]
  },
  {
   "cell_type": "code",
   "execution_count": 153,
   "metadata": {
    "id": "TZBcy1C3ysZ6"
   },
   "outputs": [
    {
     "ename": "ValueError",
     "evalue": "Column 'contact' is not a column of the dataframe.",
     "output_type": "error",
     "traceback": [
      "\u001b[1;31m---------------------------------------------------------------------------\u001b[0m",
      "\u001b[1;31mValueError\u001b[0m                                Traceback (most recent call last)",
      "Cell \u001b[1;32mIn[153], line 39\u001b[0m\n\u001b[0;32m     36\u001b[0m     \u001b[38;5;28;01mreturn\u001b[39;00m X_train_encoded, X_test_encoded\n\u001b[0;32m     38\u001b[0m \u001b[38;5;66;03m# Кодування категоріальних змінних\u001b[39;00m\n\u001b[1;32m---> 39\u001b[0m X_train_encoded, X_test_encoded \u001b[38;5;241m=\u001b[39m \u001b[43mencode_categorical_columns\u001b[49m\u001b[43m(\u001b[49m\u001b[43mX_train\u001b[49m\u001b[43m,\u001b[49m\u001b[43m \u001b[49m\u001b[43mX_test\u001b[49m\u001b[43m,\u001b[49m\u001b[43m \u001b[49m\u001b[43mcategorical_cols\u001b[49m\u001b[43m)\u001b[49m\n\u001b[0;32m     41\u001b[0m \u001b[38;5;66;03m# Побудова моделі логістичної регресії\u001b[39;00m\n\u001b[0;32m     42\u001b[0m logmodel \u001b[38;5;241m=\u001b[39m LogisticRegression() \n",
      "Cell \u001b[1;32mIn[153], line 19\u001b[0m, in \u001b[0;36mencode_categorical_columns\u001b[1;34m(X_train, X_test, categorical_cols)\u001b[0m\n\u001b[0;32m     17\u001b[0m \u001b[38;5;28;01mfor\u001b[39;00m col \u001b[38;5;129;01min\u001b[39;00m categorical_cols:\n\u001b[0;32m     18\u001b[0m     \u001b[38;5;28;01mif\u001b[39;00m col \u001b[38;5;129;01mnot\u001b[39;00m \u001b[38;5;129;01min\u001b[39;00m X_train\u001b[38;5;241m.\u001b[39mcolumns:\n\u001b[1;32m---> 19\u001b[0m         \u001b[38;5;28;01mraise\u001b[39;00m \u001b[38;5;167;01mValueError\u001b[39;00m(\u001b[38;5;124mf\u001b[39m\u001b[38;5;124m\"\u001b[39m\u001b[38;5;124mColumn \u001b[39m\u001b[38;5;124m'\u001b[39m\u001b[38;5;132;01m{\u001b[39;00mcol\u001b[38;5;132;01m}\u001b[39;00m\u001b[38;5;124m'\u001b[39m\u001b[38;5;124m is not a column of the dataframe.\u001b[39m\u001b[38;5;124m\"\u001b[39m)\n\u001b[0;32m     20\u001b[0m     \u001b[38;5;28;01mif\u001b[39;00m col \u001b[38;5;129;01mnot\u001b[39;00m \u001b[38;5;129;01min\u001b[39;00m X_test\u001b[38;5;241m.\u001b[39mcolumns:\n\u001b[0;32m     21\u001b[0m         \u001b[38;5;28;01mraise\u001b[39;00m \u001b[38;5;167;01mValueError\u001b[39;00m(\u001b[38;5;124mf\u001b[39m\u001b[38;5;124m\"\u001b[39m\u001b[38;5;124mColumn \u001b[39m\u001b[38;5;124m'\u001b[39m\u001b[38;5;132;01m{\u001b[39;00mcol\u001b[38;5;132;01m}\u001b[39;00m\u001b[38;5;124m'\u001b[39m\u001b[38;5;124m is not a column of the dataframe.\u001b[39m\u001b[38;5;124m\"\u001b[39m)\n",
      "\u001b[1;31mValueError\u001b[0m: Column 'contact' is not a column of the dataframe."
     ]
    }
   ],
   "source": [
    "from sklearn.preprocessing import OneHotEncoder\n",
    "from sklearn.compose import ColumnTransformer\n",
    "from sklearn.pipeline import Pipeline\n",
    "\n",
    "# Функція для кодування категоріальних змінних\n",
    "def encode_categorical_columns(X_train: pd.DataFrame, X_test: pd.DataFrame, categorical_cols: list) -> (pd.DataFrame, pd.DataFrame):\n",
    "    \"\"\"\n",
    "    Function for encoding categorical features using OneHotEncoder\n",
    "    \n",
    "    X_train: pd.DataFrame with training features\n",
    "    X_test: pd.DataFrame with testing features\n",
    "    categorical_cols: specified columns to encode\n",
    "    \n",
    "    returns: (pd.DataFrame, pd.DataFrame) with encoded values\n",
    "    \"\"\"\n",
    "    # Перевірка наявності колонок у датафреймах\n",
    "    for col in categorical_cols:\n",
    "        if col not in X_train.columns:\n",
    "            raise ValueError(f\"Column '{col}' is not a column of the dataframe.\")\n",
    "        if col not in X_test.columns:\n",
    "            raise ValueError(f\"Column '{col}' is not a column of the dataframe.\")\n",
    "    \n",
    "    # Використовуємо ColumnTransformer для кодування категоріальних змінних\n",
    "    preprocessor = ColumnTransformer(\n",
    "        transformers=[('cat', OneHotEncoder(drop='first'), categorical_cols)],\n",
    "        remainder='passthrough'\n",
    "    )\n",
    "    \n",
    "    # Побудова пайплайну\n",
    "    pipe = Pipeline(steps=[('preprocessor', preprocessor)])\n",
    "    \n",
    "    # Кодування категоріальних змінних\n",
    "    X_train_encoded = pipe.fit_transform(X_train)\n",
    "    X_test_encoded = pipe.transform(X_test)\n",
    "    \n",
    "    return X_train_encoded, X_test_encoded\n",
    "\n",
    "# Кодування категоріальних змінних\n",
    "X_train_encoded, X_test_encoded = encode_categorical_columns(X_train, X_test, categorical_cols)\n",
    "\n",
    "# Побудова моделі логістичної регресії\n",
    "logmodel = LogisticRegression() \n",
    "logmodel.fit(X_train_encoded, y_train)\n",
    "logpred = logmodel.predict(X_test_encoded)\n",
    "\n",
    "# Оцінка моделі\n",
    "print(confusion_matrix(y_test, logpred))\n",
    "print(round(accuracy_score(y_test, logpred),2)*100)\n",
    "LOGCV = (cross_val_score(logmodel, X_test_encoded, y_test, cv=k_fold, n_jobs=1, scoring='accuracy').mean())\n"
   ]
  },
  {
   "cell_type": "markdown",
   "metadata": {},
   "source": [
    "## k-NN"
   ]
  },
  {
   "cell_type": "code",
   "execution_count": 156,
   "metadata": {
    "id": "NHxB-_ZUysZ6"
   },
   "outputs": [
    {
     "ename": "TypeError",
     "evalue": "encode_categorical_columns() missing 1 required positional argument: 'categorical_cols'",
     "output_type": "error",
     "traceback": [
      "\u001b[1;31m---------------------------------------------------------------------------\u001b[0m",
      "\u001b[1;31mTypeError\u001b[0m                                 Traceback (most recent call last)",
      "Cell \u001b[1;32mIn[156], line 5\u001b[0m\n\u001b[0;32m      2\u001b[0m categorical_cols_X_train \u001b[38;5;241m=\u001b[39m X_train\u001b[38;5;241m.\u001b[39mselect_dtypes(include\u001b[38;5;241m=\u001b[39m[\u001b[38;5;124m'\u001b[39m\u001b[38;5;124mobject\u001b[39m\u001b[38;5;124m'\u001b[39m])\u001b[38;5;241m.\u001b[39mcolumns\u001b[38;5;241m.\u001b[39mtolist()\n\u001b[0;32m      4\u001b[0m \u001b[38;5;66;03m# Кодування категоріальних змінних у X_train\u001b[39;00m\n\u001b[1;32m----> 5\u001b[0m X_train_encoded \u001b[38;5;241m=\u001b[39m \u001b[43mencode_categorical_columns\u001b[49m\u001b[43m(\u001b[49m\u001b[43mX_train\u001b[49m\u001b[43m,\u001b[49m\u001b[43m \u001b[49m\u001b[43mcategorical_cols_X_train\u001b[49m\u001b[43m)\u001b[49m\n\u001b[0;32m      7\u001b[0m \u001b[38;5;66;03m# Знайти категоріальні змінні у y_train (якщо вони є)\u001b[39;00m\n\u001b[0;32m      8\u001b[0m categorical_cols_y_train \u001b[38;5;241m=\u001b[39m y_train\u001b[38;5;241m.\u001b[39mselect_dtypes(include\u001b[38;5;241m=\u001b[39m[\u001b[38;5;124m'\u001b[39m\u001b[38;5;124mobject\u001b[39m\u001b[38;5;124m'\u001b[39m])\u001b[38;5;241m.\u001b[39mcolumns\u001b[38;5;241m.\u001b[39mtolist()\n",
      "\u001b[1;31mTypeError\u001b[0m: encode_categorical_columns() missing 1 required positional argument: 'categorical_cols'"
     ]
    }
   ],
   "source": [
    "# Знайти категоріальні змінні у X_train\n",
    "categorical_cols_X_train = X_train.select_dtypes(include=['object']).columns.tolist()\n",
    "\n",
    "# Кодування категоріальних змінних у X_train\n",
    "X_train_encoded = encode_categorical_columns(X_train, categorical_cols_X_train)\n",
    "\n",
    "# Знайти категоріальні змінні у y_train (якщо вони є)\n",
    "categorical_cols_y_train = y_train.select_dtypes(include=['object']).columns.tolist()\n",
    "\n",
    "# Кодування категоріальних змінних у y_train (якщо вони є)\n",
    "if categorical_cols_y_train:\n",
    "    y_train_encoded = encode_categorical_columns(y_train, categorical_cols_y_train)\n",
    "else:\n",
    "    y_train_encoded = y_train\n",
    "\n",
    "# Тепер використовуйте X_train_encoded та y_train_encoded для моделі\n"
   ]
  },
  {
   "cell_type": "code",
   "execution_count": null,
   "metadata": {
    "id": "483uXHTnysZ6"
   },
   "outputs": [],
   "source": [
    "knn = KNeighborsClassifier(n_neighbors=optimal_k)\n",
    "knn.fit(#your code)\n",
    "knnpred = knn.predict(X_test)\n",
    "\n",
    "print(confusion_matrix(y_test, knnpred))\n",
    "print(round(accuracy_score(y_test, knnpred),2)*100)\n",
    "KNNCV = (cross_val_score(knn, X_test, y_test, cv=k_fold, n_jobs=1, scoring = 'accuracy').mean())"
   ]
  },
  {
   "cell_type": "markdown",
   "metadata": {},
   "source": [
    "## Логістична Регресія"
   ]
  },
  {
   "cell_type": "code",
   "execution_count": null,
   "metadata": {
    "id": "bIir_TuRysZ7"
   },
   "outputs": [],
   "source": [
    "models = pd.DataFrame({\n",
    "                'Models': #code,\n",
    "                'Score':  #code]})\n",
    "\n",
    "models.sort_values(by='Score', ascending=False)"
   ]
  },
  {
   "cell_type": "markdown",
   "metadata": {
    "id": "mh_Vd_vOysZ7"
   },
   "source": [
    "**Висновки по моделям (детальні)**"
   ]
  },
  {
   "cell_type": "markdown",
   "metadata": {
    "id": "ZK2CADn6ysZ7"
   },
   "source": [
    "1.   \n",
    "2.   \n",
    "3. ..."
   ]
  }
 ],
 "metadata": {
  "colab": {
   "name": "Task5_Classification (1).ipynb",
   "provenance": []
  },
  "kernelspec": {
   "display_name": "Python 3",
   "language": "python",
   "name": "python3"
  },
  "language_info": {
   "codemirror_mode": {
    "name": "ipython",
    "version": 3
   },
   "file_extension": ".py",
   "mimetype": "text/x-python",
   "name": "python",
   "nbconvert_exporter": "python",
   "pygments_lexer": "ipython3",
   "version": "3.12.3"
  }
 },
 "nbformat": 4,
 "nbformat_minor": 4
}
